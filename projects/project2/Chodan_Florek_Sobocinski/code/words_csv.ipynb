{
 "cells": [
  {
   "cell_type": "code",
   "execution_count": 2,
   "metadata": {},
   "outputs": [],
   "source": [
    "import pandas as pd\n",
    "import numpy as np\n",
    "import spacy"
   ]
  },
  {
   "cell_type": "code",
   "execution_count": 3,
   "metadata": {},
   "outputs": [],
   "source": [
    "df = pd.read_csv('C:/studia/2rok/TWD/Projekt2/kod/data.csv')"
   ]
  },
  {
   "cell_type": "code",
   "execution_count": 5,
   "metadata": {},
   "outputs": [],
   "source": [
    "nlp = spacy.load(\"pl_core_news_sm\", disable=[\"parser\", \"ner\"])"
   ]
  },
  {
   "cell_type": "code",
   "execution_count": 7,
   "metadata": {},
   "outputs": [],
   "source": [
    "#df[\"words\"] = df.content.apply(lambda x: ','.join(token.lemma_ for token in nlp(x)))\n",
    "df['content'] = df['content'].apply(lambda x: '' if pd.isna(x) else x)\n",
    "df[\"words\"] = df['content'].apply(lambda x: ','.join(token.lemma_ for token in nlp(x)))"
   ]
  },
  {
   "cell_type": "code",
   "execution_count": 9,
   "metadata": {},
   "outputs": [],
   "source": [
    "#df = df.assign(words = df.words.str.split(','))\n",
    "#df = df.explode('words').reset_index(drop = True)\n",
    "#df[[\"conversation\",\"sender\",\"date\",\"words\"]]\n",
    "\n",
    "df = df.assign(words=df.words.str.split(','))\n",
    "df = df.explode('words').reset_index(drop=True)\n",
    "result_df = df[[\"sender\", \"date\", \"words\"]]"
   ]
  },
  {
   "cell_type": "code",
   "execution_count": 11,
   "metadata": {},
   "outputs": [],
   "source": [
    "#df[[\"conversation\",\"sender\",\"date\",\"words\"]].to_csv(\"words_data.csv\")\n",
    "\n",
    "result_df.to_csv(\"words_data.csv\", index=False)"
   ]
  }
 ],
 "metadata": {
  "kernelspec": {
   "display_name": "Python 3 (ipykernel)",
   "language": "python",
   "name": "python3"
  },
  "language_info": {
   "codemirror_mode": {
    "name": "ipython",
    "version": 3
   },
   "file_extension": ".py",
   "mimetype": "text/x-python",
   "name": "python",
   "nbconvert_exporter": "python",
   "pygments_lexer": "ipython3",
   "version": "3.9.13"
  }
 },
 "nbformat": 4,
 "nbformat_minor": 2
}
