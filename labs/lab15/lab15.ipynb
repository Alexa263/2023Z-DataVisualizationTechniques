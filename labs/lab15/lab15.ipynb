{
 "cells": [
  {
   "cell_type": "code",
   "execution_count": null,
   "metadata": {},
   "outputs": [],
   "source": [
    "import matplotlib.pyplot as plt\n",
    "import matplotlib as mpl\n",
    "import seaborn as sns\n",
    "\n",
    "import numpy as np\n",
    "import pandas as pd"
   ]
  },
  {
   "cell_type": "markdown",
   "metadata": {},
   "source": [
    "## `seaborn` - bardziej zaawansowane typy wykresów"
   ]
  },
  {
   "cell_type": "markdown",
   "metadata": {},
   "source": [
    "### rozkłady dwuwymiarowe (wraz z rozkładami brzegowymi)\n",
    "`sns.jointplot()`\n",
    "- `kind` - typ wykresu: \n",
    "    - `scatter` - wykres punktowy + histogramy,\n",
    "    - `reg` - wykres punktowy z prostą regresji liniowej + histogramy z gęstościami brzegowymi,\n",
    "    - `kde` - wykres dwuwymiarowej gęstości + gęstości brzegowe,\n",
    "    - `hist` - dwuwymiarowy histogram + histogramy,\n",
    "    - `hex` - dwuwymiarowy histogram z binami sześciokątnymi + histogramy\n",
    "\n",
    "- pod spodem wykorzystywane są inne funkcje: `sns.scatterplot()`, `sns.regplot()`, `sns.kdeplot()`, `sns.histplot()`, `sns.jointplot()`\n"
   ]
  },
  {
   "cell_type": "code",
   "execution_count": null,
   "metadata": {},
   "outputs": [],
   "source": [
    "df = pd.read_csv(\n",
    "    \"https://raw.githubusercontent.com/mini-pw/2021Z-DataVisualizationTechniques/master/labs/data/Pokemon.csv\",\n",
    "    index_col=0,\n",
    "    sep=\",\",\n",
    ")\n",
    "df.head()"
   ]
  },
  {
   "cell_type": "code",
   "execution_count": null,
   "metadata": {},
   "outputs": [],
   "source": [
    "kinds = [\"scatter\", \"reg\", \"kde\", \"hist\", \"hex\"]\n",
    "for kind in kinds:\n",
    "    sns.jointplot(data=df, x=\"Attack\", y=\"Defense\", kind=kind, height=8)\n",
    "    plt.show()"
   ]
  },
  {
   "cell_type": "code",
   "execution_count": null,
   "metadata": {},
   "outputs": [],
   "source": [
    "g = sns.jointplot(data=df, x=\"Attack\", y=\"Defense\", hue=\"Stage\", alpha=0.5, kind=\"kde\", height=8) \n",
    "g.plot_joint(sns.scatterplot, marker=\"o\") # dodawanie jako kolejne warstwy sns.JointGrid\n",
    "plt.show()"
   ]
  },
  {
   "cell_type": "markdown",
   "metadata": {},
   "source": [
    "### 'ulepszony' boxplot \n",
    "`sns.boxplot()`\n",
    "\n",
    "Boxenplot (zwany też letter-value plot) pokazuje więcej informacji o rozkładzie danych niż standardowy boxplot (można odczytać więcej kwantyli niż tylko kwartyle). \n",
    "W szczególności jest to przydatne, gdy mamy do czynienia z dużą liczbą obserwacji lub chcemy zwrócić uwagę na ogony rozkładu.\n"
   ]
  },
  {
   "cell_type": "code",
   "execution_count": null,
   "metadata": {},
   "outputs": [],
   "source": [
    "fig, axs = plt.subplots(2, 1, figsize=(8, 5), dpi=200)\n",
    "\n",
    "sns.boxplot(x = df[\"Total\"], ax=axs[0])\n",
    "axs[0].set_title(\"Boxplot\")\n",
    "\n",
    "sns.boxenplot(x = df[\"Total\"], ax=axs[1])\n",
    "axs[1].set_title(\"Boxenplot\")\n",
    "\n",
    "plt.tight_layout()\n",
    "plt.show()"
   ]
  },
  {
   "cell_type": "markdown",
   "metadata": {},
   "source": [
    "### rugplot - wykres dywanikowy/kreskowy \n",
    "Najczęściej używany w połączeniu z innymi wykresami w celu pokazania rozkładu zmiennej wzdłuż osi.  "
   ]
  },
  {
   "cell_type": "code",
   "execution_count": null,
   "metadata": {},
   "outputs": [],
   "source": [
    "fig, axs = plt.subplots(1, 1, figsize=(8, 5))\n",
    "sns.rugplot(data=df, x=\"Attack\", y=\"Defense\", ax=axs, hue=\"Stage\")\n",
    "sns.scatterplot(data=df, x=\"Attack\", y=\"Defense\", hue=\"Stage\", ax=axs)\n",
    "plt.show()"
   ]
  },
  {
   "cell_type": "markdown",
   "metadata": {},
   "source": [
    "### słupki błędów "
   ]
  },
  {
   "cell_type": "code",
   "execution_count": null,
   "metadata": {},
   "outputs": [],
   "source": [
    "flights = sns.load_dataset(\"flights\")\n",
    "flights.head()"
   ]
  },
  {
   "cell_type": "code",
   "execution_count": null,
   "metadata": {},
   "outputs": [],
   "source": [
    "fig, axs = plt.subplots(1, 1, figsize=(8, 4))\n",
    "sns.lineplot(flights, x=\"month\", y=\"passengers\")  # domyślnie errorbar = ('ci', 95) - przedział ufności 95% \n",
    "plt.show()"
   ]
  },
  {
   "cell_type": "code",
   "execution_count": null,
   "metadata": {},
   "outputs": [],
   "source": [
    "fig, axs = plt.subplots(1, 1, figsize=(8, 4))\n",
    "sns.lineplot(flights, x=\"month\", y=\"passengers\", errorbar = \"sd\") # \"sd\" - odchylenie standardowe\n",
    "plt.show()"
   ]
  },
  {
   "cell_type": "code",
   "execution_count": null,
   "metadata": {},
   "outputs": [],
   "source": [
    "fig, axs = plt.subplots(1, 1, figsize=(8, 4))\n",
    "sns.lineplot(flights, x=\"month\", y=\"passengers\", errorbar=\"se\") # \"se\" - błąd standardowy\n",
    "plt.show()"
   ]
  },
  {
   "cell_type": "markdown",
   "metadata": {},
   "source": [
    "## EDA: Hotel booking demand\n",
    "\n",
    "https://www.kaggle.com/jessemostipak/hotel-booking-demand\n",
    "\n",
    "Zbiór z Kaggle opisujący dwa hotele w Portugalii: jeden miejski (Lizbona), drugi w typie kurortu (region Algarve).\n",
    "    \n",
    "Rezerwacje w okresie od 1 lipca 2015 do 31 sierpnia 2017 roku."
   ]
  },
  {
   "cell_type": "code",
   "execution_count": null,
   "metadata": {},
   "outputs": [],
   "source": [
    "import numpy as np\n",
    "import pandas as pd\n",
    "import matplotlib.pyplot as plt\n",
    "import seaborn as sns\n",
    "import plotly.express as px\n",
    "\n",
    "pd.options.mode.chained_assignment = None "
   ]
  },
  {
   "cell_type": "code",
   "execution_count": null,
   "metadata": {},
   "outputs": [],
   "source": [
    "df = pd.read_csv(\"hotel_bookings.csv\")"
   ]
  },
  {
   "cell_type": "code",
   "execution_count": null,
   "metadata": {},
   "outputs": [],
   "source": [
    "df"
   ]
  },
  {
   "cell_type": "code",
   "execution_count": null,
   "metadata": {},
   "outputs": [],
   "source": [
    "df.describe()"
   ]
  },
  {
   "cell_type": "markdown",
   "metadata": {},
   "source": [
    "Ile jest wierszy, jakie są kolumny, gdzie są braki w danych?"
   ]
  },
  {
   "cell_type": "code",
   "execution_count": null,
   "metadata": {},
   "outputs": [],
   "source": [
    "df.info()"
   ]
  },
  {
   "cell_type": "markdown",
   "metadata": {},
   "source": [
    "<table>\n",
    "<thead>\n",
    "  <tr>\n",
    "    <th>Variable </th>\n",
    "    <th> Description </th>\n",
    "  </tr>\n",
    "</thead>\n",
    "<tbody>\n",
    "  <tr>\n",
    "    <td> adr </td>\n",
    "    <td> Average Daily Rate, calculated by dividing the sum of all lodging transactions by the total number of staying nights </td>\n",
    "  </tr>\n",
    "  <tr>\n",
    "    <td> adults </td>\n",
    "    <td> Number of adults </td>\n",
    "  </tr>\n",
    "  <tr>\n",
    "    <td> agent </td>\n",
    "    <td> ID of the travel agency that made the booking </td>\n",
    "  </tr>\n",
    "  <tr>\n",
    "    <td> arrival_date_week_number </td>\n",
    "    <td> Week number of the arrival date </td>\n",
    "  </tr>\n",
    "  <tr>\n",
    "    <td> booking_changes </td>\n",
    "    <td> Number of changes/amendments made to the booking from the moment the&nbsp;&nbsp;booking was entered on the Property Management System (PMS) until the&nbsp;&nbsp;moment of check-in or cancellation </td>\n",
    "  </tr>\n",
    "  <tr>\n",
    "    <td> country </td>\n",
    "    <td> Country of origin </td>\n",
    "  </tr>\n",
    "  <tr>\n",
    "    <td> customer_type </td>\n",
    "    <td> Type of booking, assuming one of four categories: Contract - when the&nbsp;&nbsp;booking has an allotment or other type of contract associated to it;&nbsp;&nbsp;Group - when the booking is associated to a group; Transient - when the&nbsp;&nbsp;booking is not part of a group or contract, and is not associated to&nbsp;&nbsp;other transient booking; Transient-party - when the booking is transient&nbsp;&nbsp;but is associated to at least another transient booking </td>\n",
    "  </tr>\n",
    "  <tr>\n",
    "    <td> hotel </td>\n",
    "    <td> Type of hotel </td>\n",
    "  </tr>\n",
    "  <tr>\n",
    "    <td> lead_time </td>\n",
    "    <td> Number of days that elapsed between the entering date of the booking into the PMS and the arrival date </td>\n",
    "  </tr>\n",
    "  <tr>\n",
    "    <td> market_segment </td>\n",
    "    <td> Market segment designation. In categories, the term \"TA\" means \"Travel Agents\" and \"TO\" means \"Tour Operators\" </td>\n",
    "  </tr>\n",
    "  <tr>\n",
    "    <td> previous_bookings_not_canceled </td>\n",
    "    <td> Number of previous bookings not canceled by the customer prior to the current booking </td>\n",
    "  </tr>\n",
    "  <tr>\n",
    "    <td> previous_cancellations </td>\n",
    "    <td> Number of previous bookings that were canceled by the customer prior to the current booking </td>\n",
    "  </tr>\n",
    "  <tr>\n",
    "    <td> required_car_parking_spaces </td>\n",
    "    <td> Number of car parking spaces required by the customer </td>\n",
    "  </tr>\n",
    "  <tr>\n",
    "    <td> reserved_room_type </td>\n",
    "    <td> Code of room type reserved. Code is presented instead of designation for anonymity reasons </td>\n",
    "  </tr>\n",
    "  <tr>\n",
    "    <td> stays_in_week_nights </td>\n",
    "    <td> Number of week nights (Monday to Friday) the guest stayed or booked to stay at the hotel </td>\n",
    "  </tr>\n",
    "  <tr>\n",
    "    <td> stays_in_weekend_nights </td>\n",
    "    <td> Number of weekend nights (Saturday or Sunday) the guest stayed or booked to stay at the hotel </td>\n",
    "  </tr>\n",
    "  <tr>\n",
    "    <td> total_of_special_requests </td>\n",
    "    <td> Number of special requests made by the customer (e.g. twin bed or high floor) </td>\n",
    "  </tr>\n",
    "</tbody>\n",
    "</table>"
   ]
  },
  {
   "cell_type": "code",
   "execution_count": null,
   "metadata": {},
   "outputs": [],
   "source": [
    "nan_replacements = {\"children:\": 0, \"country\": \"Unknown\", \"agent\": 0, \"company\": 0}\n",
    "hotels_df = df.fillna(nan_replacements)"
   ]
  },
  {
   "cell_type": "code",
   "execution_count": null,
   "metadata": {},
   "outputs": [],
   "source": [
    "hotels_df[['lead_time', 'adr']].hist(figsize=(15,6), bins=80)\n",
    "hotels_df[['stays_in_weekend_nights', 'stays_in_week_nights']].hist(figsize=(15,6), bins=10, range=(0,9))\n",
    "hotels_df[['adults', 'children', 'babies']].hist(figsize=(15,12), bins=6, range=(0,5))\n",
    "plt.show()"
   ]
  },
  {
   "cell_type": "markdown",
   "metadata": {},
   "source": [
    "Jakiego typu są kolumny?"
   ]
  },
  {
   "cell_type": "code",
   "execution_count": null,
   "metadata": {},
   "outputs": [],
   "source": [
    "# 1.\n",
    "{name: pd.api.types.is_numeric_dtype(hotels_df[name]) for name in hotels_df.columns}"
   ]
  },
  {
   "cell_type": "code",
   "execution_count": null,
   "metadata": {},
   "outputs": [],
   "source": [
    "# ile jest kolumn numerycznych?\n",
    "np.sum([pd.api.types.is_numeric_dtype(hotels_df[name]) for name in hotels_df.columns])"
   ]
  },
  {
   "cell_type": "code",
   "execution_count": null,
   "metadata": {},
   "outputs": [],
   "source": [
    "# 2.\n",
    "hotels_df.select_dtypes(include=[np.number])"
   ]
  },
  {
   "cell_type": "markdown",
   "metadata": {},
   "source": [
    "### Zadanie\n",
    "Zmienna `lead_time` to która mówi o długości czasu pomiędzy rezerwacją a czasem pobytu w hotelu. Czy ma jakiś wpływ? \n",
    "\n",
    "? Sprawdź wpływ czasu realizacji zamówienia na anulacje, możesz podzielić obserwacje na 10 grup. "
   ]
  },
  {
   "cell_type": "code",
   "execution_count": null,
   "metadata": {},
   "outputs": [],
   "source": [
    "    "
   ]
  },
  {
   "cell_type": "code",
   "execution_count": null,
   "metadata": {},
   "outputs": [],
   "source": [
    "num_features = [name for name in df.columns if pd.api.types.is_numeric_dtype(hotels_df[name])]\n",
    "\n",
    "plt.figure(figsize=(12, 10))\n",
    "heatmap = sns.heatmap(hotels_df[num_features].corr(), annot=True, vmin=-1, vmax=1, cmap=\"BrBG\")\n",
    "plt.show()"
   ]
  },
  {
   "cell_type": "markdown",
   "metadata": {},
   "source": [
    "### Jak często są odwoływane rezerwacje?\n"
   ]
  },
  {
   "cell_type": "code",
   "execution_count": null,
   "metadata": {},
   "outputs": [],
   "source": [
    "ax = sns.countplot(data = hotels_df, x = \"hotel\", hue = \"is_canceled\")\n",
    "for p in ax.patches:\n",
    "        ax.annotate('{}'.format(p.get_height()), (p.get_x()+0.1, p.get_height()+100))\n",
    "\n",
    "plt.title(\"Number of canceled and non canceled bookings\", fontsize=16)\n",
    "plt.xlabel(\"Hotel type\", fontsize=16)\n",
    "plt.ylabel(\"Number of bookings\", fontsize=16)\n",
    "plt.legend(title = \"Booking status\", labels = [\"not canceled\", \"canceled\"])\n",
    "plt.show()"
   ]
  },
  {
   "cell_type": "markdown",
   "metadata": {},
   "source": [
    "### Wpływ typu depozytu na anulowanie rezerwacji"
   ]
  },
  {
   "cell_type": "code",
   "execution_count": null,
   "metadata": {},
   "outputs": [],
   "source": [
    "deposit_cancel_data = hotels_df.groupby(\"deposit_type\")[\"is_canceled\"].describe()\n",
    "\n",
    "plt.figure(figsize=(12, 8))\n",
    "sns.barplot(x=deposit_cancel_data.index, y=deposit_cancel_data[\"mean\"] * 100, color = \"steelblue\")\n",
    "plt.title(\"Effect of deposit_type on cancelation\", fontsize=16)\n",
    "plt.xlabel(\"Deposit type\", fontsize=16)\n",
    "plt.ylabel(\"Cancelations [%]\", fontsize=16)\n",
    "plt.show()"
   ]
  },
  {
   "cell_type": "code",
   "execution_count": null,
   "metadata": {},
   "outputs": [],
   "source": [
    "hotels_df[\"deposit_type\"].value_counts()"
   ]
  },
  {
   "cell_type": "markdown",
   "metadata": {},
   "source": [
    "This variable can assume three categories:\n",
    "- No Deposit – no deposit was made;\n",
    "- Non Refund – a deposit was made in the value of the total stay cost;\n",
    "- Refundable – a deposit was made with a value under the total cost of stay.\"\n"
   ]
  },
  {
   "cell_type": "code",
   "execution_count": null,
   "metadata": {},
   "outputs": [],
   "source": [
    "hotels_df[hotels_df[\"deposit_type\"] == \"Non Refund\"].groupby(['hotel', 'is_canceled']).size().reset_index()"
   ]
  },
  {
   "cell_type": "markdown",
   "metadata": {},
   "source": [
    "### Jak zmienia się liczba rezerwacji w ciągu roku?"
   ]
  },
  {
   "cell_type": "code",
   "execution_count": null,
   "metadata": {},
   "outputs": [],
   "source": [
    "bookings_monthly = hotels_df[[\"hotel\", \"arrival_date_month\", \"arrival_date_year\", \"is_canceled\", \"adr\"]]\n",
    "ordered_months = [\"January\", \"February\", \"March\", \"April\", \"May\", \"June\", \n",
    "                  \"July\", \"August\", \"September\", \"October\", \"November\", \"December\"]\n",
    "bookings_monthly.loc[:,\"arrival_date_month\"] = pd.Categorical(bookings_monthly[\"arrival_date_month\"], categories=ordered_months, ordered=True)"
   ]
  },
  {
   "cell_type": "code",
   "execution_count": null,
   "metadata": {},
   "outputs": [],
   "source": [
    "bookings_monthly = bookings_monthly.groupby([\"hotel\", \"arrival_date_month\", \"is_canceled\"]).size().reset_index(name='counts')\n",
    "#w ramce dane za lipiec i sierpień występują 3 razy, za pozostałe miesiące - 2 razy\n",
    "bookings_monthly.loc[(bookings_monthly[\"arrival_date_month\"] == \"July\") | (bookings_monthly[\"arrival_date_month\"]  == \"August\"),\n",
    "                    \"counts\"] /= 3\n",
    "bookings_monthly.loc[~((bookings_monthly[\"arrival_date_month\"] == \"July\") | (bookings_monthly[\"arrival_date_month\"]  == \"August\")),\n",
    "                    \"counts\"] /= 2"
   ]
  },
  {
   "cell_type": "code",
   "execution_count": null,
   "metadata": {},
   "outputs": [],
   "source": [
    "plt.figure(figsize=(12, 8))\n",
    "plt.ylim(0, 2500)\n",
    "sns.lineplot(data=bookings_monthly[bookings_monthly[\"hotel\"] == \"City Hotel\"], x = \"arrival_date_month\", y=\"counts\", hue=\"is_canceled\")\n",
    "plt.legend(title = \"Booking status\", labels = [\"not canceled\", \"canceled\"])\n",
    "plt.title(\"Average number of bookings in City Hotel over the year\", fontsize=16)\n",
    "plt.xlabel(\"Arrival date month\", fontsize=16)\n",
    "plt.ylabel(\"Number of bookings\", fontsize=16)\n",
    "plt.show()"
   ]
  },
  {
   "cell_type": "code",
   "execution_count": null,
   "metadata": {},
   "outputs": [],
   "source": [
    "plt.figure(figsize=(12, 8))\n",
    "plt.ylim(0, 1500)\n",
    "sns.lineplot(data=bookings_monthly[bookings_monthly[\"hotel\"] == \"Resort Hotel\"], x = \"arrival_date_month\", y=\"counts\", hue=\"is_canceled\")\n",
    "plt.legend(title = \"Booking status\", labels = [\"not canceled\", \"canceled\"])\n",
    "plt.title(\"Average number of bookings in Resort Hotel over the year\", fontsize=16)\n",
    "plt.xlabel(\"Arrival date month\", fontsize=16)\n",
    "plt.ylabel(\"Number of bookings\", fontsize=16)\n",
    "plt.show()"
   ]
  },
  {
   "cell_type": "code",
   "execution_count": null,
   "metadata": {},
   "outputs": [],
   "source": [
    "df.country.value_counts()"
   ]
  },
  {
   "cell_type": "markdown",
   "metadata": {},
   "source": [
    "### Kraj pochodzenia gości hotelowych"
   ]
  },
  {
   "cell_type": "code",
   "execution_count": null,
   "metadata": {},
   "outputs": [],
   "source": [
    "plt.figure(figsize=(12, 8))\n",
    "sns.countplot(data = hotels_df[hotels_df[\"hotel\"] == \"City Hotel\"], x = \"country\", hue = \"is_canceled\", \n",
    "              order = pd.value_counts(hotels_df['country']).iloc[:15].index)\n",
    "plt.legend(title = \"Booking status\", labels = [\"not canceled\", \"canceled\"])\n",
    "plt.title(\"Number of bookings in City Hotel by country of origin of guests\", fontsize=16)\n",
    "plt.xlabel(\"Country\", fontsize=16)\n",
    "plt.ylabel(\"Number of bookings\", fontsize=16)\n",
    "plt.show()"
   ]
  },
  {
   "cell_type": "code",
   "execution_count": null,
   "metadata": {},
   "outputs": [],
   "source": [
    "plt.figure(figsize=(12, 8))\n",
    "sns.countplot(data = hotels_df[hotels_df[\"hotel\"] == \"Resort Hotel\"], x = \"country\", hue = \"is_canceled\", \n",
    "              order = pd.value_counts(hotels_df['country']).iloc[:15].index)\n",
    "plt.legend(title = \"Booking status\", labels = [\"not canceled\", \"canceled\"])\n",
    "plt.title(\"Number of bookings in Resort Hotel by country of origin of guests\", fontsize=16)\n",
    "plt.xlabel(\"Country\", fontsize=16)\n",
    "plt.ylabel(\"Number of bookings\", fontsize=16)\n",
    "plt.show()"
   ]
  },
  {
   "cell_type": "markdown",
   "metadata": {},
   "source": [
    "### Długość pobytu a liczba rezerwacji"
   ]
  },
  {
   "cell_type": "code",
   "execution_count": null,
   "metadata": {},
   "outputs": [],
   "source": [
    "res = hotels_df.loc[(hotels_df[\"hotel\"] == \"Resort Hotel\")]\n",
    "city = hotels_df.loc[(hotels_df[\"hotel\"] == \"City Hotel\")]"
   ]
  },
  {
   "cell_type": "code",
   "execution_count": null,
   "metadata": {},
   "outputs": [],
   "source": [
    "res[\"total_nights\"] = res[\"stays_in_weekend_nights\"] + res[\"stays_in_week_nights\"]\n",
    "city[\"total_nights\"] = city[\"stays_in_weekend_nights\"] + city[\"stays_in_week_nights\"]\n",
    "res_plot = res.groupby(['total_nights', \"is_canceled\"]).size().reset_index()\n",
    "city_plot = city.groupby(['total_nights', \"is_canceled\"]).size().reset_index()\n",
    "res_plot"
   ]
  },
  {
   "cell_type": "code",
   "execution_count": null,
   "metadata": {},
   "outputs": [],
   "source": [
    "plt.figure(figsize=(16, 8))\n",
    "sns.barplot(x = \"total_nights\", y = 0, hue=\"is_canceled\", data=city_plot)\n",
    "plt.title(\"Bookings and length of stay in City Hotel\", fontsize=16)\n",
    "plt.xlabel(\"Number of nights\", fontsize=16)\n",
    "plt.ylabel(\"Number of bookings\", fontsize=16)\n",
    "plt.xlim(0,22)\n",
    "plt.show()"
   ]
  },
  {
   "cell_type": "code",
   "execution_count": null,
   "metadata": {},
   "outputs": [],
   "source": [
    "plt.figure(figsize=(16, 8))\n",
    "sns.barplot(x = \"total_nights\", y = 0, hue=\"is_canceled\", data=res_plot)\n",
    "plt.xlabel(\"Number of nights\", fontsize=16)\n",
    "plt.ylabel(\"Guests [%]\", fontsize=16)\n",
    "plt.xlim(0,22)\n",
    "plt.title(\"Bookings and length of stay in Resort Hotel\", fontsize=16)\n",
    "plt.xlabel(\"Number of nights\", fontsize=16)\n",
    "plt.ylabel(\"Number of bookings\", fontsize=16)\n",
    "plt.show()"
   ]
  },
  {
   "cell_type": "markdown",
   "metadata": {},
   "source": [
    "### Czy przypisanie do innego typu pokoju ma znaczący wpływ na anulowanie rezerwacji?"
   ]
  },
  {
   "cell_type": "code",
   "execution_count": null,
   "metadata": {},
   "outputs": [],
   "source": [
    "hotels_df.loc[(hotels_df[\"reserved_room_type\"] != hotels_df[\"assigned_room_type\"]), \"is_canceled\"].mean()"
   ]
  },
  {
   "cell_type": "code",
   "execution_count": null,
   "metadata": {},
   "outputs": [],
   "source": [
    "hotels_df.loc[(hotels_df[\"reserved_room_type\"] == hotels_df[\"assigned_room_type\"]), \"is_canceled\"].mean()"
   ]
  },
  {
   "cell_type": "markdown",
   "metadata": {},
   "source": [
    "Raczej nie bardzo."
   ]
  },
  {
   "cell_type": "markdown",
   "metadata": {},
   "source": [
    "### Czy wyjazdy z dziećmi są częściej odwoływane?\n"
   ]
  },
  {
   "cell_type": "code",
   "execution_count": null,
   "metadata": {},
   "outputs": [],
   "source": [
    "hotels_df.loc[hotels_df[\"babies\"] + hotels_df[\"children\"] > 0, \"is_canceled\"].mean()"
   ]
  },
  {
   "cell_type": "code",
   "execution_count": null,
   "metadata": {},
   "outputs": [],
   "source": [
    "hotels_df.loc[hotels_df[\"babies\"] + hotels_df[\"children\"] == 0, \"is_canceled\"].mean()"
   ]
  },
  {
   "cell_type": "markdown",
   "metadata": {},
   "source": [
    "Nie."
   ]
  },
  {
   "cell_type": "markdown",
   "metadata": {},
   "source": [
    "### Czy ponowni goście są mniej skłonni do odwołania rezerwacji?"
   ]
  },
  {
   "cell_type": "code",
   "execution_count": null,
   "metadata": {},
   "outputs": [],
   "source": [
    "hotels_df.loc[hotels_df[\"is_repeated_guest\"] == 1, \"is_canceled\"].mean()"
   ]
  },
  {
   "cell_type": "code",
   "execution_count": null,
   "metadata": {},
   "outputs": [],
   "source": [
    "hotels_df.loc[hotels_df[\"is_repeated_guest\"] == 0, \"is_canceled\"].mean()"
   ]
  },
  {
   "cell_type": "markdown",
   "metadata": {},
   "source": [
    "Tak"
   ]
  },
  {
   "cell_type": "markdown",
   "metadata": {},
   "source": [
    "### Zadanie\n",
    "Sprawdź czy zmienna `previous_bookings_not_canceled` ma wpływ na anulowanie rezerwacji. Czy są jakieś inne zmienne, które mogą być zależne od `previous_bookings_not_canceled`.\n",
    "\n",
    "? Popatrz na macierz korelacji."
   ]
  },
  {
   "cell_type": "code",
   "execution_count": null,
   "metadata": {},
   "outputs": [],
   "source": []
  },
  {
   "cell_type": "markdown",
   "metadata": {},
   "source": [
    "## AutoEDA: ydata-profiling\n",
    "\n",
    "`pip install ydata-profiling`\n",
    "\n",
    "- https://github.com/ydataai/ydata-profiling"
   ]
  },
  {
   "cell_type": "code",
   "execution_count": null,
   "metadata": {},
   "outputs": [],
   "source": [
    "import numpy as np\n",
    "import pandas as pd\n",
    "from ydata_profiling import ProfileReport\n",
    "\n",
    "df = pd.DataFrame(np.random.rand(100, 5), columns=[\"a\", \"b\", \"c\", \"d\", \"e\"])"
   ]
  },
  {
   "cell_type": "code",
   "execution_count": null,
   "metadata": {},
   "outputs": [],
   "source": [
    "profile = ProfileReport(df, title=\"Profiling Report\")"
   ]
  },
  {
   "cell_type": "markdown",
   "metadata": {},
   "source": [
    "## zajawka: modelowanie predykcyjne\n",
    "\n",
    "`pip install lazypredict`\n",
    "\n",
    "- https://github.com/shankarpandala/lazypredict\n",
    "- https://lazypredict.readthedocs.io/en/latest"
   ]
  },
  {
   "cell_type": "code",
   "execution_count": null,
   "metadata": {},
   "outputs": [],
   "source": [
    "from lazypredict.Supervised import LazyClassifier"
   ]
  },
  {
   "cell_type": "code",
   "execution_count": null,
   "metadata": {},
   "outputs": [],
   "source": [
    "df_small = hotels_df.select_dtypes(include=[np.number]).sample(frac=0.1)\n",
    "\n",
    "X = df_small.drop([\"is_canceled\"], axis=1)\n",
    "y = df_small.is_canceled"
   ]
  },
  {
   "cell_type": "code",
   "execution_count": null,
   "metadata": {},
   "outputs": [],
   "source": [
    "from sklearn.model_selection import train_test_split\n",
    "X_train, X_test, y_train, y_test = train_test_split(X, y, test_size=.25, random_state=123)"
   ]
  },
  {
   "cell_type": "code",
   "execution_count": null,
   "metadata": {},
   "outputs": [],
   "source": [
    "clf = LazyClassifier(verbose=0, ignore_warnings=True, custom_metric=None)\n",
    "\n",
    "models, predictions = clf.fit(X_train, X_test, y_train, y_test)"
   ]
  },
  {
   "cell_type": "code",
   "execution_count": null,
   "metadata": {},
   "outputs": [],
   "source": [
    "print(models)"
   ]
  },
  {
   "cell_type": "code",
   "execution_count": null,
   "metadata": {},
   "outputs": [],
   "source": []
  }
 ],
 "metadata": {
  "kernelspec": {
   "display_name": "Python 3",
   "language": "python",
   "name": "python3"
  },
  "language_info": {
   "codemirror_mode": {
    "name": "ipython",
    "version": 3
   },
   "file_extension": ".py",
   "mimetype": "text/x-python",
   "name": "python",
   "nbconvert_exporter": "python",
   "pygments_lexer": "ipython3",
   "version": "3.11.4"
  }
 },
 "nbformat": 4,
 "nbformat_minor": 4
}
